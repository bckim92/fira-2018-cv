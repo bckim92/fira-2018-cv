{
 "cells": [
  {
   "cell_type": "markdown",
   "metadata": {},
   "source": [
    "## [OpenCV-Python Tutorial] Clustering\n",
    "\n",
    "In this notebook. we will learn how to use [`cv2.kmeans()`](http://docs.opencv.org/2.4/modules/core/doc/clustering.html#kmeans) function in OpenCV for data clustering\n",
    "\n",
    "---"
   ]
  },
  {
   "cell_type": "code",
   "execution_count": null,
   "metadata": {
    "collapsed": true
   },
   "outputs": [],
   "source": [
    "# For python2/3 compatibility\n",
    "from __future__ import absolute_import\n",
    "from __future__ import division\n",
    "from __future__ import print_function\n",
    "\n",
    "import numpy as np\n",
    "import cv2 # OpenCV-Python\n",
    "%matplotlib inline\n",
    "import matplotlib.pyplot as plt"
   ]
  },
  {
   "cell_type": "markdown",
   "metadata": {},
   "source": [
    "### 1. Data with Only One Feature\n",
    "\n",
    "We can take our t-shirt problem where you use only height of people to decide the size of t-shirt.\n",
    "\n",
    "So start by creating data and plot in Matplotlib"
   ]
  },
  {
   "cell_type": "code",
   "execution_count": null,
   "metadata": {},
   "outputs": [],
   "source": [
    "# Generate 25 integers between 25 to 100\n",
    "x = np.random.randint(25, 100, 25)\n",
    "# Generate 25 integers between 175 to 255\n",
    "y = np.random.randint(175, 255, 25)\n",
    "# Concat two integer lists\n",
    "z = np.hstack((x, y))\n",
    "z = z.reshape((50, 1)).astype('float32')\n",
    "\n",
    "_ = plt.hist(z, 256, [0, 256])"
   ]
  },
  {
   "cell_type": "markdown",
   "metadata": {},
   "source": [
    "Now we apply K-Means function. Before that we need to specify `criteria` and `flags`"
   ]
  },
  {
   "cell_type": "code",
   "execution_count": null,
   "metadata": {
    "collapsed": true
   },
   "outputs": [],
   "source": [
    "# Define criteria = ( type, max_iter = 10 , epsilon = 1.0 )\n",
    "criteria = (cv2.TERM_CRITERIA_EPS + cv2.TERM_CRITERIA_MAX_ITER, 10, 1.0)\n",
    "\n",
    "# Set flags\n",
    "flags = cv2.KMEANS_RANDOM_CENTERS\n",
    "\n",
    "# Apply KMeans\n",
    "# cv2.kmeans(data, K, criteria, attempts, flags)\n",
    "compactness, labels, centers = cv2.kmeans(z, 2, None, criteria, 10, flags)"
   ]
  },
  {
   "cell_type": "markdown",
   "metadata": {},
   "source": [
    "Let's check the outputs of `cv2.kmeans`"
   ]
  },
  {
   "cell_type": "code",
   "execution_count": null,
   "metadata": {},
   "outputs": [],
   "source": [
    "print(compactness)"
   ]
  },
  {
   "cell_type": "code",
   "execution_count": null,
   "metadata": {
    "scrolled": true
   },
   "outputs": [],
   "source": [
    "labels"
   ]
  },
  {
   "cell_type": "code",
   "execution_count": null,
   "metadata": {},
   "outputs": [],
   "source": [
    "centers"
   ]
  },
  {
   "cell_type": "markdown",
   "metadata": {},
   "source": [
    "Now plot A in Red color and B in Blue color and their centroids in Yellow color."
   ]
  },
  {
   "cell_type": "code",
   "execution_count": null,
   "metadata": {},
   "outputs": [],
   "source": [
    "# Split the data to different clusters depending on their labels\n",
    "A = z[labels==0]\n",
    "B = z[labels==1]\n",
    "\n",
    "# Now plot 'A' in red, 'B' in blue, 'centers' in yellow\n",
    "_ = plt.hist(A, 256, [0, 256], color = 'r')\n",
    "_ = plt.hist(B, 256, [0, 256], color = 'b')\n",
    "_ = plt.hist(centers, 32, [0,256], color = 'y')"
   ]
  },
  {
   "cell_type": "markdown",
   "metadata": {},
   "source": [
    "### 2. Data with Multiple Features\n",
    "\n",
    "Now, we will take both height and weight, i.e. two features\n",
    "\n",
    "![IMG](../images/oc_feature_representation.jpg)\n",
    "\n",
    "Start by creating data points and plot in Matplotlib"
   ]
  },
  {
   "cell_type": "code",
   "execution_count": null,
   "metadata": {
    "collapsed": true
   },
   "outputs": [],
   "source": [
    "# (25, 2) points between 25 and 50\n",
    "X = np.random.randint(25,50,(25,2))\n",
    "# (25, 2) points between 60 and 85\n",
    "Y = np.random.randint(60,85,(25,2))\n",
    "Z = np.vstack((X, Y)).astype('float32')"
   ]
  },
  {
   "cell_type": "code",
   "execution_count": null,
   "metadata": {
    "scrolled": true
   },
   "outputs": [],
   "source": [
    "print(X)"
   ]
  },
  {
   "cell_type": "code",
   "execution_count": null,
   "metadata": {},
   "outputs": [],
   "source": [
    "print(Z.shape)"
   ]
  },
  {
   "cell_type": "markdown",
   "metadata": {},
   "source": [
    "Draw plot with [`plt.scatter`](https://matplotlib.org/api/pyplot_api.html#matplotlib.pyplot.scatter)"
   ]
  },
  {
   "cell_type": "code",
   "execution_count": null,
   "metadata": {},
   "outputs": [],
   "source": [
    "# Make a scatter plot of x vs y\n",
    "# plt.scatter(x, y)\n",
    "plt.scatter(Z[:,0], Z[:,1])"
   ]
  },
  {
   "cell_type": "code",
   "execution_count": null,
   "metadata": {
    "collapsed": true
   },
   "outputs": [],
   "source": [
    "# define criteria and apply kmeans()\n",
    "criteria = (cv2.TERM_CRITERIA_EPS + cv2.TERM_CRITERIA_MAX_ITER, 10, 1.0)\n",
    "compactness, label, center=cv2.kmeans(Z, 2, None, criteria, 10, cv2.KMEANS_RANDOM_CENTERS)\n",
    "\n",
    "# Now separate the data, Note the flatten()\n",
    "A = Z[label.flatten()==0]\n",
    "B = Z[label.flatten()==1]"
   ]
  },
  {
   "cell_type": "code",
   "execution_count": null,
   "metadata": {},
   "outputs": [],
   "source": [
    "# Plot the data\n",
    "plt.scatter(A[:,0],A[:,1])\n",
    "plt.scatter(B[:,0],B[:,1],c = 'r')\n",
    "# s : size of plot\n",
    "# c : color\n",
    "# marker : marker style\n",
    "plt.scatter(center[:,0],center[:,1],s = 80,c = 'y', marker = 's')\n",
    "plt.xlabel('Height'),plt.ylabel('Weight')\n",
    "plt.show()"
   ]
  },
  {
   "cell_type": "markdown",
   "metadata": {},
   "source": [
    "### Practice : Color Quantization\n",
    "\n",
    "Color Quantization is the process of reducing number of colors in an image.\n",
    "One reason to do so is to reduce the memory.\n",
    "\n",
    "There are 3 features R, G, B.\n",
    "So we need to reshape the image to an array of Mx3 size (M is number of pixels in image).\n",
    "After clustering, we apply centroid values (it is also R, G, B) to all pixels.\n",
    "\n",
    "![IMG](../images/oc_color_quantization.jpg)"
   ]
  },
  {
   "cell_type": "code",
   "execution_count": null,
   "metadata": {},
   "outputs": [],
   "source": [
    "img = cv2.imread('../images/home.jpg')\n",
    "\n",
    "plt.figure()\n",
    "plt.imshow(cv2.cvtColor(img, cv2.COLOR_BGR2RGB))\n",
    "plt.title(\"Original Image\")\n",
    "\n",
    "# Flatten images\n",
    "Z = img.reshape((-1,3))\n",
    "# Convert to np.float32\n",
    "Z = np.float32(Z)\n",
    "\n",
    "# ===================== YOUR CODE HERE =====================\n",
    "#\n",
    "# ==========================================================\n",
    "\n",
    "# Now convert back into uint8, and make original image\n",
    "center = np.uint8(center)\n",
    "res = center[label.flatten()]\n",
    "res2 = res.reshape((img.shape))\n",
    "\n",
    "# Plot quantized image\n",
    "plt.figure()\n",
    "plt.imshow(cv2.cvtColor(res2, cv2.COLOR_BGR2RGB))"
   ]
  },
  {
   "cell_type": "markdown",
   "metadata": {},
   "source": [
    "#### Reference\n",
    "\n",
    "Please see the following official tutorials for more detailed explanation.\n",
    "- [K-Means Clustering - OpenCV documentation](http://docs.opencv.org/3.0-beta/doc/py_tutorials/py_ml/py_kmeans/py_kmeans_opencv/py_kmeans_opencv.html)"
   ]
  },
  {
   "cell_type": "code",
   "execution_count": null,
   "metadata": {
    "collapsed": true
   },
   "outputs": [],
   "source": []
  }
 ],
 "metadata": {
  "kernelspec": {
   "display_name": "Python 2",
   "language": "python",
   "name": "python2"
  },
  "language_info": {
   "codemirror_mode": {
    "name": "ipython",
    "version": 2
   },
   "file_extension": ".py",
   "mimetype": "text/x-python",
   "name": "python",
   "nbconvert_exporter": "python",
   "pygments_lexer": "ipython2",
   "version": "2.7.6"
  }
 },
 "nbformat": 4,
 "nbformat_minor": 2
}
